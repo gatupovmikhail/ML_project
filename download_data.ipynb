{
 "cells": [
  {
   "cell_type": "code",
   "execution_count": 1,
   "id": "95010f93",
   "metadata": {},
   "outputs": [],
   "source": [
    "%matplotlib inline\n",
    "from pycocotools.coco import COCO\n",
    "import numpy as np\n",
    "import matplotlib.pyplot as plt\n",
    "import skimage.io as io\n",
    "import torch.utils.data as D\n",
    "import pandas as pd\n",
    "import os"
   ]
  },
  {
   "cell_type": "code",
   "execution_count": 2,
   "id": "7962a671",
   "metadata": {},
   "outputs": [],
   "source": [
    "dataDir='annotations_trainval2014'\n",
    "dataType='val2014'\n",
    "annFile='{}/annotations/instances_{}.json'.format(dataDir,dataType)"
   ]
  },
  {
   "cell_type": "code",
   "execution_count": 3,
   "id": "6a80591d",
   "metadata": {},
   "outputs": [
    {
     "name": "stdout",
     "output_type": "stream",
     "text": [
      "loading annotations into memory...\n",
      "Done (t=6.06s)\n",
      "creating index...\n",
      "index created!\n"
     ]
    }
   ],
   "source": [
    "coco=COCO(annFile)"
   ]
  },
  {
   "cell_type": "code",
   "execution_count": 4,
   "id": "6f4c265f",
   "metadata": {},
   "outputs": [
    {
     "name": "stdout",
     "output_type": "stream",
     "text": [
      "number of samples: 1480\n"
     ]
    }
   ],
   "source": [
    "# code for mashine learning\n",
    "\n",
    "catIds = coco.getCatIds(catNms=['cat'])  # отбор картинок с кошками (id категории)\n",
    "imgIds = coco.getImgIds(catIds=catIds )  # отбор картинок с кошками (id картинок)\n",
    "print(f'number of samples: {len(imgIds)}') # кол-во картинок с кошками\n",
    "\n",
    "##### создай дирректорию !!!!!!!!!!!!!!!!!!!\n",
    "\n",
    "DATA_DIR = 'coco_dataset/'\n",
    "\n",
    "try:\n",
    "    os.mkdir(DATA_DIR)\n",
    "except FileExistsError:\n",
    "    pass\n",
    "\n",
    "for num_of_id in range(3):\n",
    "    idd = imgIds[num_of_id]\n",
    "    img = coco.loadImgs(idd)[0]\n",
    "    I = io.imread(img['coco_url'])\n",
    "\n",
    "    # added of mask\n",
    "    annIds = coco.getAnnIds(imgIds=img['id'], catIds=catIds, iscrowd=None)\n",
    "    anns = coco.loadAnns(annIds)\n",
    "    #coco.showAnns(anns)\n",
    "    mask = coco.annToMask(anns[0])\n",
    "    #plt.figure(figsize=(10,20)) ## ?????????\n",
    "    #plt.subplot(121)\n",
    "#     plt.axis('off')\n",
    "#     plt.imshow(I)\n",
    "    plt.imsave(DATA_DIR + f'img_{num_of_id}', I, format='jpg')\n",
    "#     plt.title(f'shape of picture: {I.shape}, number: {num_of_id}')\n",
    "    #plt.subplot(122)\n",
    "    #plt.figure(figsize=(10,20))\n",
    "    #mask = (mask + 1)%2\n",
    "#     plt.figure()\n",
    "#     plt.imshow(mask)\n",
    "#     plt.axis('off')\n",
    "    plt.imsave(DATA_DIR + f'mask_{num_of_id}', mask, format='jpg', cmap='Greys')\n",
    "#     plt.title(f'shape of mask: {mask.shape}, number: {num_of_id}')\n",
    "print('Success')"
   ]
  },
  {
   "cell_type": "code",
   "execution_count": null,
   "id": "64d903e2",
   "metadata": {},
   "outputs": [],
   "source": []
  }
 ],
 "metadata": {
  "kernelspec": {
   "display_name": "Python 3",
   "language": "python",
   "name": "python3"
  },
  "language_info": {
   "codemirror_mode": {
    "name": "ipython",
    "version": 3
   },
   "file_extension": ".py",
   "mimetype": "text/x-python",
   "name": "python",
   "nbconvert_exporter": "python",
   "pygments_lexer": "ipython3",
   "version": "3.7.10"
  }
 },
 "nbformat": 4,
 "nbformat_minor": 5
}
